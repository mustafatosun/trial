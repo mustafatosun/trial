{
  "nbformat": 4,
  "nbformat_minor": 0,
  "metadata": {
    "colab": {
      "provenance": []
    },
    "kernelspec": {
      "name": "python3",
      "display_name": "Python 3"
    },
    "language_info": {
      "name": "python"
    }
  },
  "cells": [
    {
      "cell_type": "code",
      "execution_count": 101,
      "metadata": {
        "colab": {
          "base_uri": "https://localhost:8080/"
        },
        "id": "3mayLNAgM2DQ",
        "outputId": "ecbbfb74-4dd1-44e2-c69f-d02017262f1c"
      },
      "outputs": [
        {
          "output_type": "stream",
          "name": "stdout",
          "text": [
            "[34, True, 15, 'hello', 5.3]\n",
            "[0, 0, 0, 0, 0, 0, 0, 0, 0, 0]\n",
            "['hello', 'hello', 'hello', 'hello', 'hello', 'hello', 'hello', 'hello', 'hello', 'hello']\n",
            "hello\n",
            "5.3\n",
            "[15, 'hello']\n",
            "[15, 'hello', 5.3]\n",
            "[34, True, 15]\n",
            "###################\n",
            "[34, 22, 44, 5.3]\n",
            "[34, 'y', 'e', 'n', 'i']\n",
            "###################\n",
            "True\n",
            "False\n",
            "[34, 'y', 'e', 'n', 'i', True, 'hello', 4.5, [3, 5, 'world']]\n",
            "[34, 'y', 99, 'e', 'n', 'i', True, 'hello', 4.5, [3, 5, 'world']]\n",
            "False\n",
            "3\n",
            "l\n",
            "[34, 'y', 99, 'e', 'n', 'i', True, 'hello', [3, 5, 'world']]\n",
            "[34, 'y', 99, 'e', 'n', 'i', True, 'hello', [3, 5, 'world'], 3, 5, 'world']\n",
            "['y', 99, 'e', 'n', 'i', True, 'hello', [3, 5, 'world'], 3, 5, 'world']\n",
            "['y', 99, True, 'n', 'i', True, 'hello', [3, 5, 'world'], 3, 5, 'world']\n",
            "['y', 99, 'n', 'i', True, 'hello', [3, 5, 'world'], 3, 5, 'world']\n",
            "[3, 99, 'n', 'i', True, 'hello', [3, 5, 'world'], 3, 5, 'world']\n",
            "[3, 99, 'n', 'i', True, 'hello', [3, 5, 'world'], 3, 5]\n",
            "[3, 99, 'i', True, 'hello', [3, 5, 'world'], 3, 5]\n",
            "5\n",
            "[3, 99, 'i', True, 'hello', [3, 5, 'world'], 3]\n",
            "[3, 99, True, 'hello', [3, 5, 'world'], 3]\n",
            "[3, 5, 'hello', 1]\n",
            "[]\n",
            "[3, 5, 3.4, 1]\n",
            "[1, 3, 3.4, 5]\n",
            "['.!?', 'hahaha', 'hello', 'naber', 'world']\n",
            "['world', 'naber', 'hello', 'hahaha', '.!?']\n",
            "[1, 3, 3.4, 5]\n",
            "[1, 3, 3.4, 5]\n",
            "[5, 3, 77, 5]\n",
            "[5, 3, 77, 5]\n",
            "5 5\n",
            "7 5\n",
            "[5, 3, 77, 5]\n",
            "[5, 3, 77, 5]\n",
            "[88, 3, 77, 5]\n",
            "[5, 3, 99, 5]\n",
            "3\n",
            "0\n"
          ]
        }
      ],
      "source": [
        "mylist = [34 , True, 15, 'hello', 5.3]\n",
        "mylist2 = [0] * 10\n",
        "mylist3 = ['hello'] * 10\n",
        "print(mylist)\n",
        "print(mylist2)\n",
        "print(mylist3)\n",
        "print(mylist[3])\n",
        "print(mylist[-1])\n",
        "print(mylist[2:4])\n",
        "print(mylist[2:])\n",
        "print(mylist[:3])\n",
        "print('###################')\n",
        "mylist[2] = 77\n",
        "mylist[-2] = 88\n",
        "mylist[1:4] = [22, 44]\n",
        "print(mylist)\n",
        "mylist[1:4] = 'yeni'\n",
        "print(mylist)\n",
        "print('###################')\n",
        "len(mylist)\n",
        "\n",
        "print('y' in mylist)\n",
        "print('3' in mylist)\n",
        "\n",
        "mylist.append(True)\n",
        "mylist.append('hello')\n",
        "mylist.append(4.5)\n",
        "mylist.append([3, 5, 'world'])\n",
        "print(mylist)\n",
        "mylist.insert(2, 99)\n",
        "print(mylist)\n",
        "print(5 in mylist)\n",
        "print(mylist[9][0])\n",
        "print(mylist[7][2])\n",
        "del(mylist[8])\n",
        "print(mylist)\n",
        "mylist.extend([3, 5, 'world'])\n",
        "print(mylist)\n",
        "mylist.remove(34)\n",
        "print(mylist)\n",
        "mylist[2] = True\n",
        "print(mylist)\n",
        "mylist.remove(True)\n",
        "print(mylist)\n",
        "mylist[0] = 3\n",
        "print(mylist)\n",
        "mylist.remove('world')\n",
        "print(mylist)\n",
        "\n",
        "\n",
        "mylist.pop(2)\n",
        "print(mylist)\n",
        "print(mylist.pop())\n",
        "print(mylist)\n",
        "\n",
        "del(mylist[2])\n",
        "print(mylist)\n",
        "\n",
        "del(mylist)\n",
        "# print(mylist)  # liste artik erisilemez\n",
        "\n",
        "\n",
        "mylist = [3, 5, 'hello', 1]\n",
        "print(mylist)\n",
        "mylist.clear()\n",
        "print(mylist)\n",
        "\n",
        "mylist = [3, 5, 3.4, 1]\n",
        "print(mylist)\n",
        "mylist.sort()\n",
        "print(mylist)\n",
        "\n",
        "mylist2 = ['hello', 'world', 'naber', '.!?', 'hahaha']\n",
        "mylist2.sort()\n",
        "print(mylist2)\n",
        "mylist2.sort(reverse=True)\n",
        "print(mylist2)\n",
        "\n",
        "\n",
        "mylist2 = mylist\n",
        "print(mylist)\n",
        "print(mylist2)\n",
        "mylist[0] = 5\n",
        "mylist2[2] = 77\n",
        "print(mylist)\n",
        "print(mylist2) # ayni sonuclari verir cunku iki degisken de ayni listeyi gostermektedir\n",
        "\n",
        "a = 5\n",
        "b = a\n",
        "print(a, b)\n",
        "a = 7\n",
        "print(a, b)\n",
        "\n",
        "mylist2 = mylist.copy()\n",
        "print(mylist)\n",
        "print(mylist2)\n",
        "mylist[0] = 88\n",
        "mylist2[2] = 99\n",
        "print(mylist)\n",
        "print(mylist2) # farkli sonuclari verir cunku degiskenler farkli listeleri gostermektedir\n",
        "\n",
        "print(mylist.index(5)) # parametre olarak verilen elmanin indexini dondurur\n",
        "print(mylist.count(2)) # parametre olarak verilen degerin listenin icinde kac tane oldugunu dondurur\n",
        "\n",
        "\n",
        "\n",
        "\n",
        "\n"
      ]
    },
    {
      "cell_type": "code",
      "source": [
        "araba = {'marka':'Mercedes', 'model':'CLA200', 'Renk':'Kirmizi', 'Yil':'2024', 0:'asdasd', 'qweqwe':99}\n",
        "print(araba)\n",
        "print(araba.keys())\n",
        "print(araba.values())\n",
        "print(araba.items())\n",
        "\n",
        "print(araba[0])\n",
        "print(araba['marka'])\n",
        "\n",
        "araba.update({'yeni': 'yepyeni', 'yeni2':'yepyeni2'})\n",
        "araba['yeni3'] = 'yepyeni3'\n",
        "print(araba)\n",
        "\n",
        "\n",
        "print(araba.pop('yeni2'))\n",
        "del(araba['yeni3'])\n",
        "print(araba)"
      ],
      "metadata": {
        "colab": {
          "base_uri": "https://localhost:8080/"
        },
        "id": "PBeHQo5JlR-Q",
        "outputId": "16ff45de-b03a-4965-c392-4aefdd0a4e54"
      },
      "execution_count": 97,
      "outputs": [
        {
          "output_type": "stream",
          "name": "stdout",
          "text": [
            "{'marka': 'Mercedes', 'model': 'CLA200', 'Renk': 'Kirmizi', 'Yil': '2024', 0: 'asdasd', 'qweqwe': 99}\n",
            "dict_keys(['marka', 'model', 'Renk', 'Yil', 0, 'qweqwe'])\n",
            "dict_values(['Mercedes', 'CLA200', 'Kirmizi', '2024', 'asdasd', 99])\n",
            "dict_items([('marka', 'Mercedes'), ('model', 'CLA200'), ('Renk', 'Kirmizi'), ('Yil', '2024'), (0, 'asdasd'), ('qweqwe', 99)])\n",
            "asdasd\n",
            "Mercedes\n",
            "{'marka': 'Mercedes', 'model': 'CLA200', 'Renk': 'Kirmizi', 'Yil': '2024', 0: 'asdasd', 'qweqwe': 99, 'yeni': 'yepyeni', 'yeni2': 'yepyeni2', 'yeni3': 'yepyeni3'}\n",
            "yepyeni2\n",
            "{'marka': 'Mercedes', 'model': 'CLA200', 'Renk': 'Kirmizi', 'Yil': '2024', 0: 'asdasd', 'qweqwe': 99, 'yeni': 'yepyeni'}\n"
          ]
        }
      ]
    },
    {
      "cell_type": "code",
      "source": [
        "a = 5\n",
        "b = 'hello world'\n",
        "\n",
        "\n",
        "#x = input('Lutfen adinizi girin:')\n",
        "#print('Merhaba '+ x)\n",
        "\n",
        "#y = int(input('Bir sayi giriniz:'))\n",
        "y = '5'\n",
        "y = int(y)\n",
        "print(y+5)\n",
        "\n",
        "x = float('3.5')\n",
        "print(x+2)\n",
        "\n",
        "s=5\n",
        "print(str(s)+'00')\n",
        "\n",
        "x= 'hello'\n",
        "y = list(x)\n",
        "print(y)\n",
        "print(set(y))"
      ],
      "metadata": {
        "colab": {
          "base_uri": "https://localhost:8080/"
        },
        "id": "lkaLN48IuCfj",
        "outputId": "377ff00a-f12b-440d-adb0-fdad56bd3022"
      },
      "execution_count": 113,
      "outputs": [
        {
          "output_type": "stream",
          "name": "stdout",
          "text": [
            "10\n",
            "5.5\n",
            "500\n",
            "['h', 'e', 'l', 'l', 'o']\n",
            "{'e', 'o', 'l', 'h'}\n"
          ]
        }
      ]
    },
    {
      "cell_type": "code",
      "source": [
        "x = 3\n",
        "y = 4\n",
        "\n",
        "if x<y:\n",
        "  print('x y den kucuktur')\n",
        "  print('blablabal')\n",
        "print('calisiyor')\n"
      ],
      "metadata": {
        "colab": {
          "base_uri": "https://localhost:8080/"
        },
        "id": "4BJqSSWAwpBU",
        "outputId": "22b01d83-374b-4bdc-9cdd-6eaf71987af3"
      },
      "execution_count": 120,
      "outputs": [
        {
          "output_type": "stream",
          "name": "stdout",
          "text": [
            "x y den kucuktur\n",
            "blablabal\n",
            "calisiyor\n"
          ]
        }
      ]
    },
    {
      "cell_type": "code",
      "source": [
        "x = int(input('Bir sayi giriniz:'))\n",
        "\n",
        "if x < 10:\n",
        "  print('x 10dan kucuktur')\n",
        "if x > 10:\n",
        "  print('x 10dan buyuktur')\n",
        "if x == 10:\n",
        "  print('x 10a esittir')\n"
      ],
      "metadata": {
        "colab": {
          "base_uri": "https://localhost:8080/"
        },
        "id": "iQWAeYBmyEOV",
        "outputId": "9adf8799-093e-4c6a-8ac5-faf29f9b0801"
      },
      "execution_count": 133,
      "outputs": [
        {
          "output_type": "stream",
          "name": "stdout",
          "text": [
            "Bir sayi giriniz:10\n",
            "x 10a esittir\n"
          ]
        }
      ]
    },
    {
      "cell_type": "code",
      "source": [
        "x = int(input('Bir sayi giriniz:'))\n",
        "\n",
        "if x < 10:\n",
        "  print('x 10dan kucuktur')\n",
        "elif x > 10:\n",
        "  print('x 10dan buyuktur')\n",
        "else:\n",
        "  print('x 10a esittir')"
      ],
      "metadata": {
        "colab": {
          "base_uri": "https://localhost:8080/"
        },
        "id": "8LOqqS26zoIu",
        "outputId": "01c400ac-39eb-42f1-bb28-18df71a2e36a"
      },
      "execution_count": 134,
      "outputs": [
        {
          "output_type": "stream",
          "name": "stdout",
          "text": [
            "Bir sayi giriniz:10\n",
            "x 10a esittir\n"
          ]
        }
      ]
    },
    {
      "cell_type": "code",
      "source": [
        "x = int(input('Bir sayi giriniz:'))\n",
        "\n",
        "if x % 2 == 0:\n",
        "  print('x cifttir')\n",
        "else:\n",
        "  print('x tektir')"
      ],
      "metadata": {
        "colab": {
          "base_uri": "https://localhost:8080/"
        },
        "id": "EzsVSB030mI6",
        "outputId": "627cd877-772b-4b96-cabc-b27f688dd511"
      },
      "execution_count": 140,
      "outputs": [
        {
          "output_type": "stream",
          "name": "stdout",
          "text": [
            "Bir sayi giriniz:5\n",
            "x tektir\n"
          ]
        }
      ]
    },
    {
      "cell_type": "code",
      "source": [
        "x = input('Bir sayi giriniz:')\n",
        "\n",
        "if x.isdigit():\n",
        "  x = int(x)\n",
        "  if x % 2 == 0:\n",
        "    print('girilen deger cifttir')\n",
        "  else:\n",
        "    print('girilen deger tektir')\n",
        "elif x.isalpha():\n",
        "  print('girilen deger alfabedir')\n",
        "else:\n",
        "  print('girilen deger karisik')"
      ],
      "metadata": {
        "colab": {
          "base_uri": "https://localhost:8080/"
        },
        "id": "xJgak9VG3btg",
        "outputId": "1fe30e15-cbe3-4efe-c9b2-b74cad032915"
      },
      "execution_count": 144,
      "outputs": [
        {
          "output_type": "stream",
          "name": "stdout",
          "text": [
            "Bir sayi giriniz:sdkjfhdskjg983467598473\n",
            "girilen deger karisik\n"
          ]
        }
      ]
    },
    {
      "cell_type": "code",
      "source": [
        "x = int(input('Bir sayi giriniz:'))\n",
        "\n",
        "if x >= 0 and x <= 9:\n",
        "  print('0-9 arasi')\n",
        "elif x >= 10 and x <= 19:\n",
        "  print('10-19 arasi')\n",
        "elif x >= 20 and x <= 29:\n",
        "  print('20-29 arasi')\n",
        "elif x >= 30 and x <= 39:\n",
        "  print('30-39 arasi')\n",
        "elif x >= 40 and x <= 49:\n",
        "  print('40-49 arasi')\n"
      ],
      "metadata": {
        "colab": {
          "base_uri": "https://localhost:8080/"
        },
        "id": "uhJUJ3Me55oS",
        "outputId": "65d4dad9-e131-454c-ff52-61d87143b5f2"
      },
      "execution_count": 147,
      "outputs": [
        {
          "output_type": "stream",
          "name": "stdout",
          "text": [
            "Bir sayi giriniz:41\n",
            "40-49 arasi\n"
          ]
        }
      ]
    },
    {
      "cell_type": "code",
      "source": [
        "x = int(input('Bir sayi giriniz:'))\n",
        "\n",
        "if 0 <= x <= 9:\n",
        "  print('0-9 arasi')\n",
        "elif 10 <= x <= 19:\n",
        "  print('10-19 arasi')\n",
        "elif 20 <= x <= 29:\n",
        "  print('20-29 arasi')\n",
        "elif 30 <= x <= 39:\n",
        "  print('30-39 arasi')\n",
        "elif 40 <= x <= 49:\n",
        "  print('40-49 arasi')"
      ],
      "metadata": {
        "colab": {
          "base_uri": "https://localhost:8080/"
        },
        "id": "UYvfP3qg7eQs",
        "outputId": "b7187bf5-80b2-4d1a-e740-a0f989cf83df"
      },
      "execution_count": 148,
      "outputs": [
        {
          "output_type": "stream",
          "name": "stdout",
          "text": [
            "Bir sayi giriniz:35\n",
            "30-39 arasi\n"
          ]
        }
      ]
    }
  ]
}